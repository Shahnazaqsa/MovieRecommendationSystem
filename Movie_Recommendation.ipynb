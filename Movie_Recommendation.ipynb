{
 "cells": [
  {
   "cell_type": "markdown",
   "id": "84850586-04a5-4c4a-b9ad-5ee74bf8dfe1",
   "metadata": {},
   "source": [
    "# Task - 4 Movie Recommendation System"
   ]
  },
  {
   "cell_type": "code",
   "execution_count": 1,
   "id": "4b84a598-f779-4115-bf86-24d1ca277a76",
   "metadata": {},
   "outputs": [],
   "source": [
    "import pandas as pd\n",
    "import numpy as np"
   ]
  },
  {
   "cell_type": "markdown",
   "id": "256879fa-83c5-4d08-952d-2d434fab706d",
   "metadata": {},
   "source": [
    "### Load Ratings Data"
   ]
  },
  {
   "cell_type": "code",
   "execution_count": 2,
   "id": "eab24183-8740-457d-823e-f3ecf415f9a4",
   "metadata": {},
   "outputs": [
    {
     "data": {
      "text/html": [
       "<div>\n",
       "<style scoped>\n",
       "    .dataframe tbody tr th:only-of-type {\n",
       "        vertical-align: middle;\n",
       "    }\n",
       "\n",
       "    .dataframe tbody tr th {\n",
       "        vertical-align: top;\n",
       "    }\n",
       "\n",
       "    .dataframe thead th {\n",
       "        text-align: right;\n",
       "    }\n",
       "</style>\n",
       "<table border=\"1\" class=\"dataframe\">\n",
       "  <thead>\n",
       "    <tr style=\"text-align: right;\">\n",
       "      <th></th>\n",
       "      <th>userId</th>\n",
       "      <th>movieId</th>\n",
       "      <th>rating</th>\n",
       "      <th>timestamp</th>\n",
       "    </tr>\n",
       "  </thead>\n",
       "  <tbody>\n",
       "    <tr>\n",
       "      <th>0</th>\n",
       "      <td>196</td>\n",
       "      <td>242</td>\n",
       "      <td>3</td>\n",
       "      <td>881250949</td>\n",
       "    </tr>\n",
       "    <tr>\n",
       "      <th>1</th>\n",
       "      <td>186</td>\n",
       "      <td>302</td>\n",
       "      <td>3</td>\n",
       "      <td>891717742</td>\n",
       "    </tr>\n",
       "    <tr>\n",
       "      <th>2</th>\n",
       "      <td>22</td>\n",
       "      <td>377</td>\n",
       "      <td>1</td>\n",
       "      <td>878887116</td>\n",
       "    </tr>\n",
       "    <tr>\n",
       "      <th>3</th>\n",
       "      <td>244</td>\n",
       "      <td>51</td>\n",
       "      <td>2</td>\n",
       "      <td>880606923</td>\n",
       "    </tr>\n",
       "    <tr>\n",
       "      <th>4</th>\n",
       "      <td>166</td>\n",
       "      <td>346</td>\n",
       "      <td>1</td>\n",
       "      <td>886397596</td>\n",
       "    </tr>\n",
       "  </tbody>\n",
       "</table>\n",
       "</div>"
      ],
      "text/plain": [
       "   userId  movieId  rating  timestamp\n",
       "0     196      242       3  881250949\n",
       "1     186      302       3  891717742\n",
       "2      22      377       1  878887116\n",
       "3     244       51       2  880606923\n",
       "4     166      346       1  886397596"
      ]
     },
     "execution_count": 2,
     "metadata": {},
     "output_type": "execute_result"
    }
   ],
   "source": [
    "ratings = pd.read_csv(\"ml-100k/u.data\" , sep = \"\\t\", names = [\"userId\", \"movieId\", \"rating\", \"timestamp\"])\n",
    "ratings.head()"
   ]
  },
  {
   "cell_type": "markdown",
   "id": "bfaca3ff-4fb6-47b9-a49d-8ad182e76fa1",
   "metadata": {},
   "source": [
    "### Load Movies Data"
   ]
  },
  {
   "cell_type": "code",
   "execution_count": 3,
   "id": "ea023bef-618b-4a75-bdc6-8eb5e431160c",
   "metadata": {},
   "outputs": [],
   "source": [
    "movies = pd.read_csv(\"ml-100k/u.item\", sep = \"|\" ,encoding = \"latin-1\" ,names = [\"movieId\", \"title\", \"release_date\", \"video_release_date\", \"IMDb_URL\", \n",
    "                            \"unknown\", \"Action\", \"Adventure\", \"Animation\", \"Children's\", \"Comedy\", \n",
    "                            \"Crime\", \"Documentary\", \"Drama\", \"Fantasy\", \"Film-Noir\", \"Horror\", \n",
    "                            \"Musical\", \"Mystery\", \"Romance\", \"Sci-Fi\", \"Thriller\", \"War\", \"Western\"],usecols = [\"movieId\", \"title\"])"
   ]
  },
  {
   "cell_type": "code",
   "execution_count": 4,
   "id": "36abefb2-6921-4fc8-8957-601779bc887c",
   "metadata": {},
   "outputs": [
    {
     "data": {
      "text/html": [
       "<div>\n",
       "<style scoped>\n",
       "    .dataframe tbody tr th:only-of-type {\n",
       "        vertical-align: middle;\n",
       "    }\n",
       "\n",
       "    .dataframe tbody tr th {\n",
       "        vertical-align: top;\n",
       "    }\n",
       "\n",
       "    .dataframe thead th {\n",
       "        text-align: right;\n",
       "    }\n",
       "</style>\n",
       "<table border=\"1\" class=\"dataframe\">\n",
       "  <thead>\n",
       "    <tr style=\"text-align: right;\">\n",
       "      <th></th>\n",
       "      <th>movieId</th>\n",
       "      <th>title</th>\n",
       "    </tr>\n",
       "  </thead>\n",
       "  <tbody>\n",
       "    <tr>\n",
       "      <th>0</th>\n",
       "      <td>1</td>\n",
       "      <td>Toy Story (1995)</td>\n",
       "    </tr>\n",
       "    <tr>\n",
       "      <th>1</th>\n",
       "      <td>2</td>\n",
       "      <td>GoldenEye (1995)</td>\n",
       "    </tr>\n",
       "    <tr>\n",
       "      <th>2</th>\n",
       "      <td>3</td>\n",
       "      <td>Four Rooms (1995)</td>\n",
       "    </tr>\n",
       "    <tr>\n",
       "      <th>3</th>\n",
       "      <td>4</td>\n",
       "      <td>Get Shorty (1995)</td>\n",
       "    </tr>\n",
       "    <tr>\n",
       "      <th>4</th>\n",
       "      <td>5</td>\n",
       "      <td>Copycat (1995)</td>\n",
       "    </tr>\n",
       "  </tbody>\n",
       "</table>\n",
       "</div>"
      ],
      "text/plain": [
       "   movieId              title\n",
       "0        1   Toy Story (1995)\n",
       "1        2   GoldenEye (1995)\n",
       "2        3  Four Rooms (1995)\n",
       "3        4  Get Shorty (1995)\n",
       "4        5     Copycat (1995)"
      ]
     },
     "execution_count": 4,
     "metadata": {},
     "output_type": "execute_result"
    }
   ],
   "source": [
    "movies.head()"
   ]
  },
  {
   "cell_type": "markdown",
   "id": "229b77ce-0d14-4b64-823f-9e13f28d6897",
   "metadata": {},
   "source": [
    "# User-User Similarity"
   ]
  },
  {
   "cell_type": "code",
   "execution_count": 5,
   "id": "d4bb71f6-e8b5-415a-b19a-585a90c9231d",
   "metadata": {},
   "outputs": [],
   "source": [
    "user_item_matrix = ratings.pivot_table(index = \"userId\" , columns = \"movieId\", values = \"rating\")"
   ]
  },
  {
   "cell_type": "code",
   "execution_count": 6,
   "id": "ed46ffab-8240-40c8-b76c-ff229c624059",
   "metadata": {},
   "outputs": [
    {
     "data": {
      "text/plain": [
       "(943, 1682)"
      ]
     },
     "execution_count": 6,
     "metadata": {},
     "output_type": "execute_result"
    }
   ],
   "source": [
    "user_item_matrix.shape"
   ]
  },
  {
   "cell_type": "markdown",
   "id": "fba91e7a-5c8a-48a3-8e0f-ede7335fbdbf",
   "metadata": {},
   "source": [
    "***filling NaN values with 0***"
   ]
  },
  {
   "cell_type": "code",
   "execution_count": 7,
   "id": "b6a4537f-5ded-42c8-9b5e-de45ec5baba6",
   "metadata": {},
   "outputs": [],
   "source": [
    "user_item_matrix = user_item_matrix.fillna(0)"
   ]
  },
  {
   "cell_type": "markdown",
   "id": "a9c51858-88b2-444e-874c-18be5e689a76",
   "metadata": {},
   "source": [
    "## calculation cosine similarity"
   ]
  },
  {
   "cell_type": "code",
   "execution_count": 8,
   "id": "9a3514c0-fa56-4f0c-8f69-9f066e55dbdd",
   "metadata": {},
   "outputs": [],
   "source": [
    "from sklearn.metrics.pairwise import cosine_similarity"
   ]
  },
  {
   "cell_type": "code",
   "execution_count": 9,
   "id": "cf2bb0df-0537-4c96-926e-e166a6b9e5a0",
   "metadata": {},
   "outputs": [],
   "source": [
    "similarity = cosine_similarity(user_item_matrix)"
   ]
  },
  {
   "cell_type": "markdown",
   "id": "8786e7d1-1a84-4a09-aec4-61748fa56e06",
   "metadata": {},
   "source": [
    "***convert in dataframe***"
   ]
  },
  {
   "cell_type": "code",
   "execution_count": 10,
   "id": "bdd764c2-caf3-4b7b-bcff-7b8c136a8228",
   "metadata": {},
   "outputs": [],
   "source": [
    "similarity_data = pd.DataFrame(similarity , index = user_item_matrix.index , columns = user_item_matrix.index)"
   ]
  },
  {
   "cell_type": "code",
   "execution_count": 11,
   "id": "ed1dbdf6-7e14-4d95-9fa6-5a1dfa385e3e",
   "metadata": {},
   "outputs": [
    {
     "data": {
      "text/html": [
       "<div>\n",
       "<style scoped>\n",
       "    .dataframe tbody tr th:only-of-type {\n",
       "        vertical-align: middle;\n",
       "    }\n",
       "\n",
       "    .dataframe tbody tr th {\n",
       "        vertical-align: top;\n",
       "    }\n",
       "\n",
       "    .dataframe thead th {\n",
       "        text-align: right;\n",
       "    }\n",
       "</style>\n",
       "<table border=\"1\" class=\"dataframe\">\n",
       "  <thead>\n",
       "    <tr style=\"text-align: right;\">\n",
       "      <th>userId</th>\n",
       "      <th>1</th>\n",
       "      <th>2</th>\n",
       "      <th>3</th>\n",
       "      <th>4</th>\n",
       "      <th>5</th>\n",
       "      <th>6</th>\n",
       "      <th>7</th>\n",
       "      <th>8</th>\n",
       "      <th>9</th>\n",
       "      <th>10</th>\n",
       "      <th>...</th>\n",
       "      <th>934</th>\n",
       "      <th>935</th>\n",
       "      <th>936</th>\n",
       "      <th>937</th>\n",
       "      <th>938</th>\n",
       "      <th>939</th>\n",
       "      <th>940</th>\n",
       "      <th>941</th>\n",
       "      <th>942</th>\n",
       "      <th>943</th>\n",
       "    </tr>\n",
       "    <tr>\n",
       "      <th>userId</th>\n",
       "      <th></th>\n",
       "      <th></th>\n",
       "      <th></th>\n",
       "      <th></th>\n",
       "      <th></th>\n",
       "      <th></th>\n",
       "      <th></th>\n",
       "      <th></th>\n",
       "      <th></th>\n",
       "      <th></th>\n",
       "      <th></th>\n",
       "      <th></th>\n",
       "      <th></th>\n",
       "      <th></th>\n",
       "      <th></th>\n",
       "      <th></th>\n",
       "      <th></th>\n",
       "      <th></th>\n",
       "      <th></th>\n",
       "      <th></th>\n",
       "      <th></th>\n",
       "    </tr>\n",
       "  </thead>\n",
       "  <tbody>\n",
       "    <tr>\n",
       "      <th>1</th>\n",
       "      <td>1.000000</td>\n",
       "      <td>0.166931</td>\n",
       "      <td>0.047460</td>\n",
       "      <td>0.064358</td>\n",
       "      <td>0.378475</td>\n",
       "      <td>0.430239</td>\n",
       "      <td>0.440367</td>\n",
       "      <td>0.319072</td>\n",
       "      <td>0.078138</td>\n",
       "      <td>0.376544</td>\n",
       "      <td>...</td>\n",
       "      <td>0.369527</td>\n",
       "      <td>0.119482</td>\n",
       "      <td>0.274876</td>\n",
       "      <td>0.189705</td>\n",
       "      <td>0.197326</td>\n",
       "      <td>0.118095</td>\n",
       "      <td>0.314072</td>\n",
       "      <td>0.148617</td>\n",
       "      <td>0.179508</td>\n",
       "      <td>0.398175</td>\n",
       "    </tr>\n",
       "    <tr>\n",
       "      <th>2</th>\n",
       "      <td>0.166931</td>\n",
       "      <td>1.000000</td>\n",
       "      <td>0.110591</td>\n",
       "      <td>0.178121</td>\n",
       "      <td>0.072979</td>\n",
       "      <td>0.245843</td>\n",
       "      <td>0.107328</td>\n",
       "      <td>0.103344</td>\n",
       "      <td>0.161048</td>\n",
       "      <td>0.159862</td>\n",
       "      <td>...</td>\n",
       "      <td>0.156986</td>\n",
       "      <td>0.307942</td>\n",
       "      <td>0.358789</td>\n",
       "      <td>0.424046</td>\n",
       "      <td>0.319889</td>\n",
       "      <td>0.228583</td>\n",
       "      <td>0.226790</td>\n",
       "      <td>0.161485</td>\n",
       "      <td>0.172268</td>\n",
       "      <td>0.105798</td>\n",
       "    </tr>\n",
       "    <tr>\n",
       "      <th>3</th>\n",
       "      <td>0.047460</td>\n",
       "      <td>0.110591</td>\n",
       "      <td>1.000000</td>\n",
       "      <td>0.344151</td>\n",
       "      <td>0.021245</td>\n",
       "      <td>0.072415</td>\n",
       "      <td>0.066137</td>\n",
       "      <td>0.083060</td>\n",
       "      <td>0.061040</td>\n",
       "      <td>0.065151</td>\n",
       "      <td>...</td>\n",
       "      <td>0.031875</td>\n",
       "      <td>0.042753</td>\n",
       "      <td>0.163829</td>\n",
       "      <td>0.069038</td>\n",
       "      <td>0.124245</td>\n",
       "      <td>0.026271</td>\n",
       "      <td>0.161890</td>\n",
       "      <td>0.101243</td>\n",
       "      <td>0.133416</td>\n",
       "      <td>0.026556</td>\n",
       "    </tr>\n",
       "    <tr>\n",
       "      <th>4</th>\n",
       "      <td>0.064358</td>\n",
       "      <td>0.178121</td>\n",
       "      <td>0.344151</td>\n",
       "      <td>1.000000</td>\n",
       "      <td>0.031804</td>\n",
       "      <td>0.068044</td>\n",
       "      <td>0.091230</td>\n",
       "      <td>0.188060</td>\n",
       "      <td>0.101284</td>\n",
       "      <td>0.060859</td>\n",
       "      <td>...</td>\n",
       "      <td>0.052107</td>\n",
       "      <td>0.036784</td>\n",
       "      <td>0.133115</td>\n",
       "      <td>0.193471</td>\n",
       "      <td>0.146058</td>\n",
       "      <td>0.030138</td>\n",
       "      <td>0.196858</td>\n",
       "      <td>0.152041</td>\n",
       "      <td>0.170086</td>\n",
       "      <td>0.058752</td>\n",
       "    </tr>\n",
       "    <tr>\n",
       "      <th>5</th>\n",
       "      <td>0.378475</td>\n",
       "      <td>0.072979</td>\n",
       "      <td>0.021245</td>\n",
       "      <td>0.031804</td>\n",
       "      <td>1.000000</td>\n",
       "      <td>0.237286</td>\n",
       "      <td>0.373600</td>\n",
       "      <td>0.248930</td>\n",
       "      <td>0.056847</td>\n",
       "      <td>0.201427</td>\n",
       "      <td>...</td>\n",
       "      <td>0.338794</td>\n",
       "      <td>0.080580</td>\n",
       "      <td>0.094924</td>\n",
       "      <td>0.079779</td>\n",
       "      <td>0.148607</td>\n",
       "      <td>0.071459</td>\n",
       "      <td>0.239955</td>\n",
       "      <td>0.139595</td>\n",
       "      <td>0.152497</td>\n",
       "      <td>0.313941</td>\n",
       "    </tr>\n",
       "  </tbody>\n",
       "</table>\n",
       "<p>5 rows × 943 columns</p>\n",
       "</div>"
      ],
      "text/plain": [
       "userId       1         2         3         4         5         6         7    \\\n",
       "userId                                                                         \n",
       "1       1.000000  0.166931  0.047460  0.064358  0.378475  0.430239  0.440367   \n",
       "2       0.166931  1.000000  0.110591  0.178121  0.072979  0.245843  0.107328   \n",
       "3       0.047460  0.110591  1.000000  0.344151  0.021245  0.072415  0.066137   \n",
       "4       0.064358  0.178121  0.344151  1.000000  0.031804  0.068044  0.091230   \n",
       "5       0.378475  0.072979  0.021245  0.031804  1.000000  0.237286  0.373600   \n",
       "\n",
       "userId       8         9         10   ...       934       935       936  \\\n",
       "userId                                ...                                 \n",
       "1       0.319072  0.078138  0.376544  ...  0.369527  0.119482  0.274876   \n",
       "2       0.103344  0.161048  0.159862  ...  0.156986  0.307942  0.358789   \n",
       "3       0.083060  0.061040  0.065151  ...  0.031875  0.042753  0.163829   \n",
       "4       0.188060  0.101284  0.060859  ...  0.052107  0.036784  0.133115   \n",
       "5       0.248930  0.056847  0.201427  ...  0.338794  0.080580  0.094924   \n",
       "\n",
       "userId       937       938       939       940       941       942       943  \n",
       "userId                                                                        \n",
       "1       0.189705  0.197326  0.118095  0.314072  0.148617  0.179508  0.398175  \n",
       "2       0.424046  0.319889  0.228583  0.226790  0.161485  0.172268  0.105798  \n",
       "3       0.069038  0.124245  0.026271  0.161890  0.101243  0.133416  0.026556  \n",
       "4       0.193471  0.146058  0.030138  0.196858  0.152041  0.170086  0.058752  \n",
       "5       0.079779  0.148607  0.071459  0.239955  0.139595  0.152497  0.313941  \n",
       "\n",
       "[5 rows x 943 columns]"
      ]
     },
     "execution_count": 11,
     "metadata": {},
     "output_type": "execute_result"
    }
   ],
   "source": [
    "similarity_data.head()"
   ]
  },
  {
   "cell_type": "markdown",
   "id": "f1da88cb-686b-4260-bb8c-ef06402b845e",
   "metadata": {},
   "source": [
    "# Recommendation Function"
   ]
  },
  {
   "cell_type": "code",
   "execution_count": 12,
   "id": "f6180fdd-5a82-49b2-b65c-e34260acd640",
   "metadata": {},
   "outputs": [],
   "source": [
    "def recommendation(user_id , user_item_matrix , similarity_data , movies , top_n = 5):\n",
    "    similar_user = similarity_data[user_id].sort_values(ascending = False)[1:6].index\n",
    "    similar_user_ratings = user_item_matrix.loc[similar_user].mean(axis = 0)\n",
    "    user_rate_movies = user_item_matrix.loc[user_id]\n",
    "    unseen_movies = similar_user_ratings[user_rate_movies == 0]\n",
    "    recommendation = unseen_movies.sort_values(ascending = False).head(top_n)\n",
    "    return movies[movies[\"movieId\"].isin(recommendation.index)][[\"movieId\",\"title\"]]"
   ]
  },
  {
   "cell_type": "code",
   "execution_count": 13,
   "id": "bc474fdf-f598-464d-8a35-bad20c7c78d6",
   "metadata": {},
   "outputs": [
    {
     "name": "stdout",
     "output_type": "stream",
     "text": [
      "     movieId                                              title\n",
      "272      273                                        Heat (1995)\n",
      "381      382  Adventures of Priscilla, Queen of the Desert, ...\n",
      "432      433                                    Heathers (1989)\n",
      "473      474  Dr. Strangelove or: How I Learned to Stop Worr...\n",
      "565      566                    Clear and Present Danger (1994)\n"
     ]
    }
   ],
   "source": [
    "print(recommendation(user_id=1, \n",
    "                       user_item_matrix=user_item_matrix, \n",
    "                       similarity_data=similarity_data, \n",
    "                       movies=movies, \n",
    "                       top_n=5))\n"
   ]
  },
  {
   "cell_type": "markdown",
   "id": "5f1d05ba-8b06-4bca-82f9-1c124db8aaa4",
   "metadata": {},
   "source": [
    "#  Evaluate performance using precision at K"
   ]
  },
  {
   "cell_type": "code",
   "execution_count": 14,
   "id": "c120c42e-4fab-4f3a-a591-4c6441fb8cf3",
   "metadata": {},
   "outputs": [],
   "source": [
    "def precision_at_k(user_id, recommended_movies, ratings, k = 5 , threshold = 3.0):\n",
    "    user_ratings = ratings[ratings[\"userId\"] == user_id]\n",
    "    recommended_ids = recommended_movies[\"movieId\"].head(k).values\n",
    "    relevant_ids = user_ratings[user_ratings[\"rating\"] >= threshold][\"movieId\"].values\n",
    "    relevant_recommended = len(set(recommended_ids) & set(relevant_ids))\n",
    "    return relevant_recommended / k"
   ]
  },
  {
   "cell_type": "code",
   "execution_count": 15,
   "id": "ed897c1a-b8cc-4858-8af3-77bbc4312b82",
   "metadata": {},
   "outputs": [
    {
     "name": "stdout",
     "output_type": "stream",
     "text": [
      "     movieId                                              title\n",
      "272      273                                        Heat (1995)\n",
      "381      382  Adventures of Priscilla, Queen of the Desert, ...\n",
      "402      403                                      Batman (1989)\n",
      "432      433                                    Heathers (1989)\n",
      "473      474  Dr. Strangelove or: How I Learned to Stop Worr...\n",
      "565      566                    Clear and Present Danger (1994)\n",
      "567      568                                       Speed (1994)\n",
      "654      655                                 Stand by Me (1986)\n",
      "683      684                         In the Line of Fire (1993)\n",
      "731      732                                        Dave (1993)\n",
      "Precision@5 for User 1 = 0.0\n"
     ]
    }
   ],
   "source": [
    "user_id = 1\n",
    "recs = recommendation(user_id, user_item_matrix, similarity_data, movies, top_n=10)\n",
    "\n",
    "print(recs)   \n",
    "\n",
    "score = precision_at_k(user_id, recs, ratings, k=10)\n",
    "print(\"Precision@5 for User\", user_id, \"=\", score)\n"
   ]
  },
  {
   "cell_type": "code",
   "execution_count": 16,
   "id": "9d20579d-226e-4c13-b8aa-c09a3c45fb16",
   "metadata": {},
   "outputs": [
    {
     "name": "stdout",
     "output_type": "stream",
     "text": [
      "\n",
      "User 4\n",
      "     movieId                                        title\n",
      "244      245                      Devil's Own, The (1997)\n",
      "285      286                  English Patient, The (1996)\n",
      "301      302                     L.A. Confidential (1997)\n",
      "304      305                        Ice Storm, The (1997)\n",
      "305      306  Mrs. Brown (Her Majesty, Mrs. Brown) (1997)\n",
      "322      323                          Dante's Peak (1997)\n",
      "325      326                             G.I. Jane (1997)\n",
      "330      331                             Edge, The (1997)\n",
      "689      690                  Seven Years in Tibet (1997)\n",
      "878      879                       Peacemaker, The (1997)\n",
      "Precision@5 = 0.0\n",
      "\n",
      "User 7\n",
      "      movieId                            title\n",
      "0           1                 Toy Story (1995)\n",
      "14         15        Mr. Holland's Opus (1995)\n",
      "94         95                   Aladdin (1992)\n",
      "116       117                 Rock, The (1996)\n",
      "217       218                 Cape Fear (1991)\n",
      "489       490          To Catch a Thief (1955)\n",
      "493       494           His Girl Friday (1940)\n",
      "524       525            Big Sleep, The (1946)\n",
      "704       705       Singin' in the Rain (1952)\n",
      "1125     1126  Old Man and the Sea, The (1958)\n",
      "Precision@5 = 0.0\n",
      "\n",
      "User 21\n",
      "      movieId                              title\n",
      "22         23                 Taxi Driver (1976)\n",
      "175       176                      Aliens (1986)\n",
      "182       183                       Alien (1979)\n",
      "249       250          Fifth Element, The (1997)\n",
      "301       302           L.A. Confidential (1997)\n",
      "332       333                   Game, The (1997)\n",
      "333       334                      U Turn (1997)\n",
      "580       581                  Kalifornia (1993)\n",
      "918       919  City of Lost Children, The (1995)\n",
      "1089     1090                      Sliver (1993)\n",
      "Precision@5 = 0.0\n",
      "\n",
      "User 61\n",
      "     movieId                        title\n",
      "258      259  George of the Jungle (1997)\n",
      "271      272     Good Will Hunting (1997)\n",
      "285      286  English Patient, The (1996)\n",
      "287      288                Scream (1996)\n",
      "301      302     L.A. Confidential (1997)\n",
      "312      313               Titanic (1997)\n",
      "321      322        Murder at 1600 (1997)\n",
      "325      326             G.I. Jane (1997)\n",
      "331      332        Kiss the Girls (1997)\n",
      "537      538             Anastasia (1997)\n",
      "Precision@5 = 0.0\n"
     ]
    }
   ],
   "source": [
    "for u in [4, 7, 21, 61]:\n",
    "    recs = recommendation(u, user_item_matrix, similarity_data, movies, top_n=10)\n",
    "    print(\"\\nUser\", u)\n",
    "    print(recs)\n",
    "    score = precision_at_k(u, recs, ratings, k=10)\n",
    "    print(\"Precision@5 =\", score)\n"
   ]
  },
  {
   "cell_type": "code",
   "execution_count": 17,
   "id": "a9ac98d4-d9b9-41da-8f8f-aa1faadaeb76",
   "metadata": {},
   "outputs": [
    {
     "name": "stdout",
     "output_type": "stream",
     "text": [
      "Average Precision@5 = 0.0\n"
     ]
    }
   ],
   "source": [
    "def evaluate_model(user_ids, ratings, user_item_matrix, similarity_data, movies, k=10):\n",
    "    scores = []\n",
    "    for user_id in user_ids:\n",
    "        recs = recommendation(user_id, user_item_matrix, similarity_data, movies, top_n=k)\n",
    "        score = precision_at_k(user_id, recs, ratings, k=k)\n",
    "        scores.append(score)\n",
    "    return sum(scores)/len(scores)\n",
    "\n",
    "avg_precision = evaluate_model(ratings[\"userId\"].unique()[:100], ratings, user_item_matrix, similarity_data, movies, k=5)\n",
    "print(\"Average Precision@5 =\", avg_precision)\n"
   ]
  },
  {
   "cell_type": "markdown",
   "id": "0a772885-6719-4c07-9fcc-4002d730daf1",
   "metadata": {},
   "source": [
    "# Item to Item similarity"
   ]
  },
  {
   "cell_type": "code",
   "execution_count": 18,
   "id": "44574b62-5a90-4c55-8dd0-9f76ecfd532e",
   "metadata": {},
   "outputs": [],
   "source": [
    "item_similarity = pd.DataFrame(cosine_similarity(user_item_matrix.T),\n",
    "                               index=user_item_matrix.columns,\n",
    "                               columns=user_item_matrix.columns)"
   ]
  },
  {
   "cell_type": "code",
   "execution_count": 19,
   "id": "20c8e5d6-562e-469a-b831-55722423531e",
   "metadata": {},
   "outputs": [],
   "source": [
    "def item_based_recommendation(user_id, user_item_matrix, item_similarity_df, movies, top_n=5):\n",
    "    user_ratings = user_item_matrix.loc[user_id].copy()\n",
    "    pred_ratings = pd.Series(0.0, index=user_item_matrix.columns)\n",
    "    for movie_id in user_item_matrix.columns:\n",
    "        if user_ratings[movie_id] == 0:\n",
    "            sim_scores = item_similarity_df[movie_id]\n",
    "            rated_mask = user_ratings > 0\n",
    "            if sim_scores[rated_mask].sum() > 0:\n",
    "                pred_ratings[movie_id] = np.dot(sim_scores[rated_mask], user_ratings[rated_mask]) / sim_scores[rated_mask].sum()\n",
    "    top_movies = pred_ratings.sort_values(ascending=False).head(top_n)\n",
    "    return movies[movies[\"movieId\"].isin(top_movies.index)][[\"movieId\", \"title\"]]"
   ]
  },
  {
   "cell_type": "code",
   "execution_count": 20,
   "id": "1e4d7c44-7464-4ab5-ad91-9a5a3aa5174e",
   "metadata": {},
   "outputs": [],
   "source": [
    "def evaluate_item_based(user_ids, ratings, user_item_matrix, item_similarity_df, movies, top_n=5, k=5):\n",
    "    scores = []\n",
    "    for user_id in user_ids:\n",
    "        recs = item_based_recommendation(user_id, user_item_matrix, item_similarity_df, movies, top_n=top_n)\n",
    "        scores.append(precision_at_k(user_id, recs, ratings, k=k))\n",
    "    return sum(scores)/len(scores)\n"
   ]
  },
  {
   "cell_type": "markdown",
   "id": "b8d0f46c-71ce-470f-82b4-80ec0bfc6d93",
   "metadata": {},
   "source": [
    "# SVD-based CF"
   ]
  },
  {
   "cell_type": "code",
   "execution_count": 21,
   "id": "cbba5cfb-7aef-4d41-840e-462e75e19a54",
   "metadata": {},
   "outputs": [],
   "source": [
    "R = user_item_matrix.values\n",
    "U, sigma, Vt = np.linalg.svd(R, full_matrices=False)\n",
    "sigma_matrix = np.diag(sigma[:50])\n",
    "R_hat = np.dot(np.dot(U[:, :50], sigma_matrix), Vt[:50, :])\n",
    "pred_ratings_matrix = pd.DataFrame(R_hat, index=user_item_matrix.index, columns=user_item_matrix.columns)"
   ]
  },
  {
   "cell_type": "code",
   "execution_count": 22,
   "id": "ead94697-0b9b-4637-8dd6-6c5afcaa9541",
   "metadata": {},
   "outputs": [],
   "source": [
    "def svd_numpy_recommendation(user_id, pred_ratings_matrix, user_item_matrix, movies, top_n=5):\n",
    "    user_row = pred_ratings_matrix.loc[user_id].copy()\n",
    "    already_rated = user_item_matrix.loc[user_id] > 0\n",
    "    user_row[already_rated] = 0\n",
    "    top_movies = user_row.sort_values(ascending=False).head(top_n)\n",
    "    return movies[movies[\"movieId\"].isin(top_movies.index)][[\"movieId\", \"title\"]]"
   ]
  },
  {
   "cell_type": "code",
   "execution_count": 23,
   "id": "dc45d2ed-c5e8-49f9-afcb-350f3665cad6",
   "metadata": {},
   "outputs": [],
   "source": [
    "def evaluate_svd(user_ids, ratings, user_item_matrix, pred_ratings_matrix, movies, top_n=5, k=5):\n",
    "    scores = []\n",
    "    for user_id in user_ids:\n",
    "        recs = svd_numpy_recommendation(user_id, pred_ratings_matrix, user_item_matrix, movies, top_n=top_n)\n",
    "        scores.append(precision_at_k(user_id, recs, ratings, k=k))\n",
    "    return sum(scores)/len(scores)"
   ]
  },
  {
   "cell_type": "code",
   "execution_count": 25,
   "id": "e58ff913-d3a0-423d-9269-f0b440f9197d",
   "metadata": {},
   "outputs": [
    {
     "name": "stdout",
     "output_type": "stream",
     "text": [
      "Average Precision@5 (Item-Item CF): 0.0\n",
      "Average Precision@5 (SVD CF): 0.0\n"
     ]
    }
   ],
   "source": [
    "user_sample = ratings[\"userId\"].unique()[:50]\n",
    "print(\"Average Precision@5 (Item-Item CF):\", evaluate_item_based(user_sample, ratings, user_item_matrix, item_similarity, movies, top_n=5, k=5))\n",
    "print(\"Average Precision@5 (SVD CF):\", evaluate_svd(user_sample, ratings, user_item_matrix, pred_ratings_matrix, movies, top_n=5, k=5))"
   ]
  },
  {
   "cell_type": "code",
   "execution_count": null,
   "id": "9f6814fb-51ca-4167-b609-bf72d8ff910e",
   "metadata": {},
   "outputs": [],
   "source": []
  }
 ],
 "metadata": {
  "kernelspec": {
   "display_name": "Python 3 (ipykernel)",
   "language": "python",
   "name": "python3"
  },
  "language_info": {
   "codemirror_mode": {
    "name": "ipython",
    "version": 3
   },
   "file_extension": ".py",
   "mimetype": "text/x-python",
   "name": "python",
   "nbconvert_exporter": "python",
   "pygments_lexer": "ipython3",
   "version": "3.12.5"
  }
 },
 "nbformat": 4,
 "nbformat_minor": 5
}
